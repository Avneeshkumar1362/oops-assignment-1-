{
 "cells": [
  {
   "cell_type": "code",
   "execution_count": 12,
   "id": "8a65fa09-bd2f-4c25-aecf-fb433e0e2d9a",
   "metadata": {},
   "outputs": [],
   "source": [
    "class a:\n",
    "\n",
    "    def test(self):\n",
    "        print('this is method is a part of class a')\n",
    "\n",
    "    def test1(self):\n",
    "        print(\"this is test1 from class a\")"
   ]
  },
  {
   "cell_type": "code",
   "execution_count": 13,
   "id": "ebf48e8b-258e-4d18-a074-8a26043a3514",
   "metadata": {},
   "outputs": [
    {
     "name": "stdout",
     "output_type": "stream",
     "text": [
      "this is method is a part of class a\n"
     ]
    }
   ],
   "source": [
    "obj_a = a()\n",
    "obj_a.test()"
   ]
  },
  {
   "cell_type": "code",
   "execution_count": 14,
   "id": "5cded46e-48b9-4e2f-bfa5-fae7c5fe3e11",
   "metadata": {},
   "outputs": [],
   "source": [
    "class b(a):\n",
    "\n",
    "    def test1b(self):\n",
    "        print(\"this is a part of class b\")"
   ]
  },
  {
   "cell_type": "code",
   "execution_count": 15,
   "id": "59ca9ea2-c644-46e8-af60-0847992e4764",
   "metadata": {},
   "outputs": [
    {
     "name": "stdout",
     "output_type": "stream",
     "text": [
      "this is test1 from class a\n",
      "this is a part of class b\n"
     ]
    }
   ],
   "source": [
    "obj_b = b()\n",
    "obj_b.test1()\n",
    "obj_b.test1b()"
   ]
  },
  {
   "cell_type": "code",
   "execution_count": 29,
   "id": "cd0e6610-c452-438b-81e8-bc6b2714a302",
   "metadata": {},
   "outputs": [],
   "source": [
    "class lecture:\n",
    "    \n",
    "    def topic(self):\n",
    "        print(\"todays class we are discussing about inheritance condept in oops\")\n",
    "        \n",
    "    def timing(self):\n",
    "        print(\"timing for todays class is 9 AM IST\")\n",
    "        \n",
    "    def end_time(self):\n",
    "        print(\"today i will try to end class bit early\")"
   ]
  },
  {
   "cell_type": "code",
   "execution_count": 30,
   "id": "d75f80ad-1a17-43fe-bfb8-69fb6ebf67d6",
   "metadata": {},
   "outputs": [],
   "source": [
    "class student(lecture):\n",
    "    \n",
    "    def student_details(self):\n",
    "        print(\"this class will give you a student details\")"
   ]
  },
  {
   "cell_type": "code",
   "execution_count": 31,
   "id": "8eead265-5426-4520-8592-9b562b40f72f",
   "metadata": {},
   "outputs": [],
   "source": [
    "naval = student()"
   ]
  },
  {
   "cell_type": "code",
   "execution_count": 32,
   "id": "2b44ff84-50f2-4081-bae8-8c836dff4573",
   "metadata": {},
   "outputs": [
    {
     "name": "stdout",
     "output_type": "stream",
     "text": [
      "todays class we are discussing about inheritance condept in oops\n"
     ]
    }
   ],
   "source": [
    "naval.topic()"
   ]
  },
  {
   "cell_type": "code",
   "execution_count": 34,
   "id": "41692c1b-ad18-4734-867c-c9bcba4e03fc",
   "metadata": {},
   "outputs": [
    {
     "name": "stdout",
     "output_type": "stream",
     "text": [
      "timing for todays class is 9 AM IST\n"
     ]
    }
   ],
   "source": [
    "satish = student()\n",
    "satish.timing()"
   ]
  },
  {
   "cell_type": "code",
   "execution_count": 36,
   "id": "61463d3c-985d-4ebf-b290-390bb7b77a63",
   "metadata": {},
   "outputs": [
    {
     "name": "stdout",
     "output_type": "stream",
     "text": [
      "today i will try to end class bit early\n",
      "this class will give you a student details\n"
     ]
    }
   ],
   "source": [
    "rahul=student()\n",
    "rahul.end_time()\n",
    "rahul.student_details()"
   ]
  },
  {
   "cell_type": "code",
   "execution_count": 21,
   "id": "b70486da-666f-419f-8aa9-d9e609661cb6",
   "metadata": {},
   "outputs": [],
   "source": [
    "class teacher(student):\n",
    "    def details(self):\n",
    "        print(\"this will give you a details about teacher\")"
   ]
  },
  {
   "cell_type": "code",
   "execution_count": 22,
   "id": "35b99776-35a0-43e3-a0a5-c79db44daaad",
   "metadata": {},
   "outputs": [
    {
     "name": "stdout",
     "output_type": "stream",
     "text": [
      "timing for todays class is 9 AM IST\n"
     ]
    }
   ],
   "source": [
    "sudh = teacher()\n",
    "sudh.timing()"
   ]
  },
  {
   "cell_type": "code",
   "execution_count": 42,
   "id": "ecfa2722-4823-44fb-8b66-34a60fc8fb90",
   "metadata": {},
   "outputs": [
    {
     "name": "stdout",
     "output_type": "stream",
     "text": [
      "this will give you a details about teacher\n",
      "this class will give you a student details\n",
      "timing for todays class is 9 AM IST\n",
      "todays class we are discussing about inheritance condept in oops\n",
      "today i will try to end class bit early\n"
     ]
    }
   ],
   "source": [
    "krish=teacher()\n",
    "krish.details()\n",
    "krish.student_details()\n",
    "krish.timing()\n",
    "krish.topic()\n",
    "krish.end_time()\n"
   ]
  },
  {
   "cell_type": "code",
   "execution_count": 45,
   "id": "7bec029e-2fdc-4655-8f48-964d4323ae26",
   "metadata": {},
   "outputs": [],
   "source": [
    "class lecture:\n",
    "    def topic(self):\n",
    "        print(\"todays class we are discussing about inheritance condept in oops\")\n",
    "        \n",
    "    def timing(self):\n",
    "        print(\"timing for todays class is 9 AM IST\")\n",
    "        \n",
    "    def end_time(self):\n",
    "        print(\"today i will try to end class bit early\")"
   ]
  },
  {
   "cell_type": "code",
   "execution_count": 46,
   "id": "48b99f2c-a05c-40fc-9220-9d7e855ad30c",
   "metadata": {},
   "outputs": [],
   "source": [
    "class student:\n",
    "    \n",
    "    def student_details(self):\n",
    "        print(\"this class will give you a student details\")\n",
    "        \n",
    "    def timing(self):\n",
    "        print(\"this is a timing fun from student class\")\n",
    "        "
   ]
  },
  {
   "cell_type": "code",
   "execution_count": 47,
   "id": "82f29688-610d-4a90-8c97-8dec531b4e62",
   "metadata": {},
   "outputs": [],
   "source": [
    "class teacher(lecture,student):\n",
    "    def details(self):\n",
    "        print(\"this will give you a details about teacher\")"
   ]
  },
  {
   "cell_type": "code",
   "execution_count": 48,
   "id": "ab4ce1af-991f-40b7-a4ee-5b93ed5cccf8",
   "metadata": {},
   "outputs": [],
   "source": [
    "krish = teacher()"
   ]
  },
  {
   "cell_type": "code",
   "execution_count": 49,
   "id": "f304ba81-b60a-4999-863d-888e3d43e4c2",
   "metadata": {},
   "outputs": [
    {
     "name": "stdout",
     "output_type": "stream",
     "text": [
      "timing for todays class is 9 AM IST\n"
     ]
    }
   ],
   "source": [
    "krish.timing()\n"
   ]
  },
  {
   "cell_type": "code",
   "execution_count": 28,
   "id": "9b173421-ddc7-4744-a64d-1cffc1d7f0ea",
   "metadata": {},
   "outputs": [
    {
     "name": "stdout",
     "output_type": "stream",
     "text": [
      "this class will give you a student details\n"
     ]
    }
   ],
   "source": [
    "krish.student_details()"
   ]
  },
  {
   "cell_type": "code",
   "execution_count": 51,
   "id": "66af4280-2c00-490f-b042-498b06d8b238",
   "metadata": {},
   "outputs": [
    {
     "name": "stdout",
     "output_type": "stream",
     "text": [
      "this will give you a details about teacher\n",
      "today i will try to end class bit early\n",
      "this class will give you a student details\n",
      "timing for todays class is 9 AM IST\n",
      "todays class we are discussing about inheritance condept in oops\n"
     ]
    }
   ],
   "source": [
    "sudh=teacher()\n",
    "sudh.details()\n",
    "sudh.end_time()\n",
    "sudh.student_details()\n",
    "sudh.timing()\n",
    "sudh.topic()"
   ]
  },
  {
   "cell_type": "markdown",
   "id": "1cb467ee-28c7-45eb-8130-1455af090b50",
   "metadata": {},
   "source": [
    "## Problem 1: Bank Account Create a class representing a bank account with attributes like account number, account holder name, and balance. Implement methods to deposit and withdraw money from the account."
   ]
  },
  {
   "cell_type": "code",
   "execution_count": 35,
   "id": "e2f66d58-eb9b-4ea5-a17e-7b02198c213a",
   "metadata": {},
   "outputs": [
    {
     "name": "stdin",
     "output_type": "stream",
     "text": [
      "\n",
      "Enter account holder name Avneesh verm a\n"
     ]
    },
    {
     "name": "stdout",
     "output_type": "stream",
     "text": [
      "Account holder name: Avneesh verm a\n"
     ]
    },
    {
     "name": "stdin",
     "output_type": "stream",
     "text": [
      "Enter your gmail_id avneeshkumar1362@gmail.com\n",
      "\n",
      "Enter the amount to be deposite 5000\n"
     ]
    },
    {
     "name": "stdout",
     "output_type": "stream",
     "text": [
      "Your depoited amount: 5000.0\n"
     ]
    },
    {
     "name": "stdin",
     "output_type": "stream",
     "text": [
      "Enter the amount to be withdraw 400\n"
     ]
    },
    {
     "name": "stdout",
     "output_type": "stream",
     "text": [
      "400.0\n",
      "Net availabe balance: 4600.0\n"
     ]
    }
   ],
   "source": [
    "class bankaccount:\n",
    "    def __init__(self):\n",
    "        self.balance=0\n",
    "        \n",
    "    def open_account(self):\n",
    "        name=input(\"\\nEnter account holder name\")\n",
    "        print(\"Account holder name:\",name)\n",
    "        gmail_id=input(\"Enter your gmail_id\")\n",
    "        return \"Your account number:\",name+gmail_id\n",
    "    def deposit_amount(self):\n",
    "        amount=float(input(\"\\nEnter the amount to be deposite\"))\n",
    "        self.balance=self.balance+amount\n",
    "        print(\"Your depoited amount:\",amount)\n",
    "        \n",
    "    def withdraw_amount(self):\n",
    "        amount=float(input(\"Enter the amount to be withdraw\"))\n",
    "        if self.balance >=amount:\n",
    "            self.balance=self.balance-amount\n",
    "            print(amount)\n",
    "    def desplay_total_amount(self):\n",
    "        print(\"Net availabe balance:\",self.balance)\n",
    "\n",
    "        \n",
    "a=bankaccount()\n",
    "a.open_account()\n",
    "\n",
    "a.deposit_amount()\n",
    "\n",
    "a.withdraw_amount()\n",
    "a.desplay_total_amount()"
   ]
  },
  {
   "cell_type": "markdown",
   "id": "e55b133c-a509-477d-b944-78f20b29906c",
   "metadata": {},
   "source": [
    "### Problem 2: Employee Management Create a class representing an employee with attributes like employee ID, name, and salary. Implement methods to calculate the yearly bonus and display employee details.\n",
    "\n"
   ]
  },
  {
   "cell_type": "code",
   "execution_count": 19,
   "id": "6e27681b-2fba-4473-a3d1-976597f48f68",
   "metadata": {},
   "outputs": [
    {
     "name": "stdout",
     "output_type": "stream",
     "text": [
      "Original employee detalis\n",
      "\n",
      "Employe name Avneesh kumar\n",
      "Employ id 12\n",
      "Employe salary 45000\n",
      "Employe Departement Accounting\n",
      "------------------------------------------\n",
      "\n",
      "Employe name Rahul verma\n",
      "Employ id 13\n",
      "Employe salary 50000\n",
      "Employe Departement Sales\n",
      "------------------------------------------\n",
      "\n",
      "Employe name Ravi verma\n",
      "Employ id 14\n",
      "Employe salary 35000\n",
      "Employe Departement Reserch\n",
      "------------------------------------------\n",
      "\n",
      "Employe name Rajeev verma\n",
      "Employ id 15\n",
      "Employe salary 40000\n",
      "Employe Departement marketing\n",
      "------------------------------------------\n",
      "Updated details of employe\n",
      "\n",
      "Employe name Avneesh kumar\n",
      "Employ id 12\n",
      "Employe salary 75000.0\n",
      "Employe Departement Sales\n",
      "------------------------------------------\n",
      "\n",
      "Employe name Rahul verma\n",
      "Employ id 13\n",
      "Employe salary 104166.66666666667\n",
      "Employe Departement Marketing\n",
      "------------------------------------------\n"
     ]
    }
   ],
   "source": [
    "class employee():\n",
    "    def __init__(self,name,employ_id,salary,departement):\n",
    "        self.name=name\n",
    "        self.employ_id=employ_id\n",
    "        self.salary=salary\n",
    "        self.departement=departement\n",
    "        \n",
    "    def calaculate_salary(self,salary,work_hours):\n",
    "        overtime=0\n",
    "        if work_hours>12:\n",
    "            overtime = work_hours-12\n",
    "        self.salary=self.salary+(overtime*(self.salary/12))\n",
    "        \n",
    "    def assign_departement(self,departement):\n",
    "        self.departement=departement\n",
    "        \n",
    "        \n",
    "    def print_employe_details(self):\n",
    "        print(\"\\nEmploye name\",self.name)\n",
    "        print(\"Employ id\",self.employ_id)\n",
    "        print(\"Employe salary\",self.salary)\n",
    "        print(\"Employe Departement\",self.departement)\n",
    "        \n",
    "        print(\"------------------------------------------\")\n",
    "        \n",
    "employe1=employee(\"Avneesh kumar\",12,45000,\"Accounting\") \n",
    "employe2=employee(\"Rahul verma\",13,50000,\"Sales\")\n",
    "employe3=employee(\"Ravi verma\",14,35000,\"Reserch\")\n",
    "employe4=employee(\"Rajeev verma\",15,40000,\"marketing\")\n",
    "\n",
    "\n",
    "print(\"Original employee detalis\")\n",
    "employe1.print_employe_details()\n",
    "employe2.print_employe_details()\n",
    "employe3.print_employe_details()\n",
    "employe4.print_employe_details()\n",
    "\n",
    "\n",
    "\n",
    "employe1.assign_departement(\"Sales\")\n",
    "employe2.assign_departement(\"Marketing\")\n",
    "\n",
    "\n",
    "employe1.calaculate_salary(45000,20)\n",
    "employe2.calaculate_salary(50000,25)\n",
    "\n",
    "print(\"Updated details of employe\")\n",
    "employe1.print_employe_details()\n",
    "employe2.print_employe_details()"
   ]
  },
  {
   "cell_type": "markdown",
   "id": "530d6378-ab06-49a9-85b3-64627a6c7e59",
   "metadata": {},
   "source": [
    "### Problem 3: Vehicle Rental Create a class representing a vehicle rental system. Implement methods to rent a vehicle, return a vehicle, and display available vehicles.\n",
    "\n"
   ]
  },
  {
   "cell_type": "code",
   "execution_count": 61,
   "id": "c72201ab-32e8-4758-bc8c-e5725901127a",
   "metadata": {},
   "outputs": [
    {
     "name": "stdout",
     "output_type": "stream",
     "text": [
      "\n",
      "Available Vehicles:\n",
      "- Car\n",
      "- SUV Car\n",
      "- Bike\n",
      "Avneesh verma rented a Car.\n",
      "\n",
      "Available Vehicles:\n",
      "- SUV Car\n",
      "- Bike\n",
      "Car returned.\n",
      "\n",
      "Available Vehicles:\n",
      "- SUV Car\n",
      "- Bike\n",
      "- Car\n"
     ]
    }
   ],
   "source": [
    "class VehicleRentalSystem:\n",
    "    def __init__(self):\n",
    "        # Assuming a simple representation of vehicles with a list\n",
    "        self.available_vehicles = []\n",
    "\n",
    "    def add_vehicle(self, vehicle):\n",
    "        self.available_vehicles.append(vehicle)\n",
    "\n",
    "    def rent_vehicle(self, customer, vehicle_type):\n",
    "        for vehicle in self.available_vehicles:\n",
    "            if vehicle.vehicle_type == vehicle_type:\n",
    "                self.available_vehicles.remove(vehicle)\n",
    "                print(f\"{customer} rented a {vehicle_type}.\")\n",
    "                return\n",
    "        print(f\"Sorry, no available {vehicle_type} for {customer} to rent.\")\n",
    "\n",
    "    def return_vehicle(self, vehicle):\n",
    "        self.available_vehicles.append(vehicle)\n",
    "        print(f\"{vehicle.vehicle_type} returned.\")\n",
    "\n",
    "    def display_available_vehicles(self):\n",
    "        if self.available_vehicles:\n",
    "            print(\"\\nAvailable Vehicles:\")\n",
    "            for vehicle in self.available_vehicles:\n",
    "                print(f\"- {vehicle.vehicle_type}\")\n",
    "        else:\n",
    "            print(\"No vehicles available.\")\n",
    "\n",
    "\n",
    "class Vehicle:\n",
    "    def __init__(self, vehicle_type):\n",
    "        self.vehicle_type = vehicle_type\n",
    "\n",
    "rental_system = VehicleRentalSystem()\n",
    "\n",
    "vehicle1 = Vehicle(vehicle_type=\"Car\")\n",
    "vehicle2 = Vehicle(vehicle_type=\"SUV Car\")\n",
    "vehicle3 = Vehicle(vehicle_type=\"Bike\")\n",
    "\n",
    "rental_system.add_vehicle(vehicle1)\n",
    "rental_system.add_vehicle(vehicle2)\n",
    "rental_system.add_vehicle(vehicle3)\n",
    "\n",
    "\n",
    "rental_system.display_available_vehicles()\n",
    "\n",
    "rental_system.rent_vehicle(customer=\"Avneesh verma\", vehicle_type=\"Car\")\n",
    "\n",
    "rental_system.display_available_vehicles()\n",
    "\n",
    "rental_system.return_vehicle(vehicle1)\n",
    "\n",
    "\n",
    "rental_system.display_available_vehicles()"
   ]
  },
  {
   "cell_type": "markdown",
   "id": "6b70841e-8e54-4e66-a89c-5c7da3c9170b",
   "metadata": {},
   "source": [
    "### Problem 4: Library Catalog Create classes representing a library and a book. Implement methods to add books to the library, borrow books, and display available books.\n",
    "\n"
   ]
  },
  {
   "cell_type": "code",
   "execution_count": 60,
   "id": "7aa4e014-7a4a-449c-81b3-35da98193116",
   "metadata": {},
   "outputs": [
    {
     "name": "stdout",
     "output_type": "stream",
     "text": [
      "Available books in my library: ['Rich Dad and Poor Dad', 'How Successful People Think']\n",
      "You have borrowed 'Rich Dad and Poor Dad'.\n",
      "Available books in my library: ['How Successful People Think']\n"
     ]
    }
   ],
   "source": [
    "\n",
    "class Library:\n",
    "    def __init__(self):\n",
    "        self.book_names = [] \n",
    "    def add_books(self, *books):\n",
    "        self.book_names.extend(books)  \n",
    "\n",
    "    def borrow_book(self, book_name):\n",
    "        if book_name in self.book_names:  \n",
    "            self.book_names.remove(book_name)\n",
    "            return f\"You have borrowed '{book_name}'.\"\n",
    "        else:\n",
    "            return \"Your book is not available.\"\n",
    "\n",
    "    def display_books(self): \n",
    "        print(\"Available books in my library:\", self.book_names)\n",
    "\n",
    "\n",
    "# Example usage:\n",
    "a = Library()\n",
    "a.add_books(\"Rich Dad and Poor Dad\", \"How Successful People Think\")\n",
    "a.display_books()\n",
    "\n",
    "result = a.borrow_book(\"Rich Dad and Poor Dad\")\n",
    "print(result)\n",
    "\n",
    "a.display_books()"
   ]
  },
  {
   "cell_type": "markdown",
   "id": "56e6d773-618a-47a8-a645-b5893af429bd",
   "metadata": {},
   "source": [
    "### Problem 5: Product Inventory Create classes representing a product and an inventory system. Implement methods to add products to the inventory, update product quantity, and display available products.\n",
    "\n"
   ]
  },
  {
   "cell_type": "code",
   "execution_count": 64,
   "id": "a21ef9c6-232a-4000-95f5-dacfd8f4cf6a",
   "metadata": {},
   "outputs": [
    {
     "name": "stdout",
     "output_type": "stream",
     "text": [
      "\n",
      "Available Products:\n",
      "Product Id 1 name Laptop price 999.99 quantity 10\n",
      "Product Id 2 name Smartphone price 599.99 quantity 20\n",
      "nQuantity for product ID 1 updated to 5.\n",
      "\n",
      "Available Products:\n",
      "Product Id 1 name Laptop price 999.99 quantity 5\n",
      "Product Id 2 name Smartphone price 599.99 quantity 20\n"
     ]
    }
   ],
   "source": [
    "class Product:\n",
    "\n",
    "    def __init__(self,product_id,name,price,quantity):\n",
    "        self.product_id = product_id\n",
    "        self.name = name\n",
    "        self.price = price\n",
    "        self.quantity = quantity\n",
    "\n",
    "    def __str__(self) -> str:\n",
    "        return f\"Product Id {self.product_id} name {self.name} price {self.price} quantity {self.quantity}\"\n",
    "    \n",
    "\n",
    "class Inventory:\n",
    "\n",
    "    def __init__(self):\n",
    "        self.products = {}\n",
    "\n",
    "    def add_product(self, product):\n",
    "        if product.product_id not in self.products:\n",
    "            self.products[product.product_id] = product\n",
    "        else:\n",
    "            print(f\"Product with ID {product.product_id} already exists in the inventory. Use update_quantity method to update quantity.\")\n",
    "\n",
    "    def update_product(self,product_id,new_quantity):\n",
    "\n",
    "        if product_id in self.products:\n",
    "            self.products[product_id].quantity = new_quantity\n",
    "            print(f\"nQuantity for product ID {product_id} updated to {new_quantity}.\")\n",
    "        else:\n",
    "            print(f\"Product with ID {product_id} not found in the inventory.\")\n",
    "\n",
    "    \n",
    "    def display_available_products(self):\n",
    "        print(\"\\nAvailable Products:\")\n",
    "        for product in self.products.values():\n",
    "            print(product)     \n",
    "\n",
    "\n",
    "\n",
    "product1 = Product(1, \"Laptop\", 999.99, 10)\n",
    "product2 = Product(2, \"Smartphone\", 599.99, 20)\n",
    "\n",
    "inventory = Inventory()\n",
    "\n",
    "inventory.add_product(product1)\n",
    "inventory.add_product(product2)\n",
    "\n",
    "inventory.display_available_products()\n",
    "\n",
    "        # Update quantity of a product\n",
    "inventory.update_product(1, 5)\n",
    "\n",
    "        # Display available products after update\n",
    "inventory.display_available_products()"
   ]
  },
  {
   "cell_type": "markdown",
   "id": "c791ea86-8ec8-4009-8d32-bc3ad6ba0fa1",
   "metadata": {},
   "source": [
    "### Problem 6: Shape Calculation Create a class representing a shape with attributes like length, width, and height. Implement methods to calculate the area and perimeter of the shape.\n",
    "\n"
   ]
  },
  {
   "cell_type": "code",
   "execution_count": 2,
   "id": "81225f8b-360e-4160-9148-07a7fbc92ed3",
   "metadata": {},
   "outputs": [
    {
     "name": "stdout",
     "output_type": "stream",
     "text": [
      "Rectangle Area: 15\n",
      "Rectangle Perimeter: 16\n",
      "Triangle Area: 12.0\n",
      "Triangle Perimeter: 17.21110255092798\n"
     ]
    }
   ],
   "source": [
    "\n",
    "class shape:\n",
    "\n",
    "    def __init__(self,length=0,width=0,height=0):\n",
    "        self.length = length\n",
    "        self.width = width\n",
    "        self.height = height\n",
    "\n",
    "    def calculate_area(self):\n",
    "        raise NotImplementedError(\"Subclasses must implement this method\")\n",
    "\n",
    "    def calculate_perimeter(self):\n",
    "        raise NotImplementedError(\"Subclasses must implement this method\")\n",
    "\n",
    "class rectangle(shape):\n",
    "\n",
    "    def area_rectangle(self):\n",
    "        return self.length *self.width\n",
    "    \n",
    "    def perimeter_rectangle(self):\n",
    "        return 2 * (self.length + self.width)\n",
    "    \n",
    "class traingle(shape):\n",
    "\n",
    "    def area_traingle(self):\n",
    "        return 0.5 * self.length * self.width\n",
    "    \n",
    "    def perimeter_traingle(self):\n",
    "        return self.length + self.width + (self.length**2 + self.width**2)**0.5\n",
    "    \n",
    "\n",
    "Rectangle = rectangle(length=5, width=3)\n",
    "Triangle = traingle(length=4, width=6)\n",
    "\n",
    "print(\"Rectangle Area:\", Rectangle.area_rectangle())\n",
    "print(\"Rectangle Perimeter:\", Rectangle.perimeter_rectangle())\n",
    "\n",
    "print(\"Triangle Area:\", Triangle.area_traingle())\n",
    "print(\"Triangle Perimeter:\", Triangle.perimeter_traingle())"
   ]
  },
  {
   "cell_type": "markdown",
   "id": "a521d62c-c8a8-4852-9085-e417ad64fc71",
   "metadata": {},
   "source": [
    "### Problem 7: Student Management Create a class representing a student with attributes like student ID, name, and grades. Implement methods to calculate the average grade and display student details.\n"
   ]
  },
  {
   "cell_type": "code",
   "execution_count": 11,
   "id": "a5c7ed88-8f3e-414d-92d3-43a7a74cc101",
   "metadata": {},
   "outputs": [
    {
     "name": "stdout",
     "output_type": "stream",
     "text": [
      "Student ID: 1\n",
      "Name: Avneesh verma \n",
      "Grades: 85, 90, 87, 92\n",
      "Average Grade: 88\n",
      "\n",
      "\n",
      "Student ID: 2\n",
      "Name: Nitish verma \n",
      "Grades: 95, 88, 99, 86\n",
      "Average Grade: 92\n",
      "Student ID: 1\n",
      "Name: Avneesh verma \n",
      "Grades: 85, 90, 87, 92\n",
      "Average Grade: 88\n",
      "\n",
      "\n",
      "Student ID: 2\n",
      "Name: Nitish verma \n",
      "Grades: 95, 88, 99, 86, 90\n",
      "Average Grade: 91\n"
     ]
    }
   ],
   "source": [
    "class student:\n",
    "\n",
    "    def __init__(self,student_id,name,grades):\n",
    "        self.student_id = student_id\n",
    "        self.name = name\n",
    "        self.grades = grades\n",
    "\n",
    "    def add_grade(self,grade):\n",
    "        self.grades.append(grade)\n",
    "\n",
    "    def calculate_average_grade(self):\n",
    "        if not self.grades:\n",
    "            return 0\n",
    "        return sum(self.grades)//len(self.grades)\n",
    "    \n",
    "    def display(self):\n",
    "        print(f\"Student ID: {self.student_id}\")\n",
    "        print(f\"Name: {self.name}\")\n",
    "        print(\"Grades:\", \", \".join(map(str, self.grades)))\n",
    "        print(f\"Average Grade: {self.calculate_average_grade()}\")\n",
    "\n",
    "\n",
    "student1 = student(student_id=\"1\", name=\"Avneesh verma \", grades=[85, 90, 87, 92])\n",
    "student2 = student(student_id=\"2\", name=\"Nitish verma \", grades=[95, 88, 99, 86])\n",
    "\n",
    "student1.display()\n",
    "print(\"\\n\")\n",
    "student2.display()\n",
    "\n",
    "student2.add_grade(90)\n",
    "\n",
    "student1.display()\n",
    "print(\"\\n\")\n",
    "student2.display()\n"
   ]
  },
  {
   "cell_type": "markdown",
   "id": "fd526f93-9ab1-4b65-89cc-6c1439af6cd4",
   "metadata": {},
   "source": [
    "\n",
    "### Problem 8: Email Management Create a class representing an email with attributes like sender, recipient, and subject. Implement methods to send an email and display email details.\n",
    "\n"
   ]
  },
  {
   "cell_type": "code",
   "execution_count": 72,
   "id": "ef5bd6f9-247a-4632-a8af-2e61784e65ee",
   "metadata": {},
   "outputs": [
    {
     "name": "stdout",
     "output_type": "stream",
     "text": [
      "Mail Details\n",
      "Email sender: nitishverma@gmail.com\n",
      "Email recipient: avneeshkumar1362@gami.com\n",
      "Subject of email: mesage\n",
      "Status: False\n",
      "\n",
      "Email send  nitishverma@gmail.com to avneeshkumar1362@gami.com\n",
      "Mail Details\n",
      "Email sender: nitishverma@gmail.com\n",
      "Email recipient: avneeshkumar1362@gami.com\n",
      "Subject of email: mesage\n",
      "Status: True\n"
     ]
    }
   ],
   "source": [
    "class email:\n",
    "    def __init__(self,message,subject,recipient,sender):\n",
    "        self.sender=sender\n",
    "        self.recipient=recipient\n",
    "        self.subject=subject\n",
    "        self.message=message\n",
    "        self.status=False\n",
    "        \n",
    "    def send_emails(self):\n",
    "        print (\"\\nEmail send \",self.sender,\"to\",self.recipient)\n",
    "        \n",
    "        self.status=True \n",
    "        \n",
    "    def display_all_details(self):\n",
    "        print(\"Mail Details\")\n",
    "        print(\"Email sender:\",self.sender)\n",
    "        print(\"Email recipient:\",self.recipient)\n",
    "        print(\"Subject of email:\",self.subject)\n",
    "        print(\"Status:\",self.status)\n",
    "        \n",
    "a=email(\"!!Hi avneesh how are you\",\"mesage\",\"avneeshkumar1362@gami.com\",\"nitishverma@gmail.com\")\n",
    "a.display_all_details()\n",
    "\n",
    "a.send_emails()\n",
    "\n",
    "a.display_all_details()"
   ]
  },
  {
   "cell_type": "markdown",
   "id": "cec51999-f622-40d2-8af2-16e0b16e51f3",
   "metadata": {},
   "source": [
    "### Problem 9: Social Media Profile Create a class representing a social media profile with attributes like username and posts. Implement methods to add posts, display posts, and search for posts by keyword.\n",
    "\n"
   ]
  },
  {
   "cell_type": "code",
   "execution_count": 54,
   "id": "f7bd983e-b623-4417-8cca-3faa1e9307fa",
   "metadata": {},
   "outputs": [
    {
     "name": "stdout",
     "output_type": "stream",
     "text": [
      "Post by user1\n",
      "1 Enjoying a sunday day at the beach!\n",
      "2 Just finished reading a great book.\n",
      "\n",
      "Post by user2\n",
      "1 Excited about the new project at work.\n",
      "2 Traveling to a new city this weekend.\n",
      "\n",
      "Post user1 containing book :\n",
      "1 Just finished reading a great book.\n",
      "\n",
      "Post user2 containing travel :\n",
      "1 Traveling to a new city this weekend.\n",
      "\n"
     ]
    }
   ],
   "source": [
    "class SocialMediaProfile:\n",
    "\n",
    "    def __init__(self,username):\n",
    "        self.username = username\n",
    "        self.posts = []\n",
    "\n",
    "    def add_post(self,content):\n",
    "        self.posts.append(content)\n",
    "\n",
    "    def display_posts(self):\n",
    "        print(f\"Post by {self.username}\")\n",
    "        for index, post in enumerate(self.posts, start=1):\n",
    "            print(f\"{index} {post}\")\n",
    "        print()\n",
    "\n",
    "    def search_posts(self,keyword):\n",
    "        ## simple search in the post\n",
    "        matching_post = [post for post in self.posts if keyword.lower() in post.lower()]\n",
    "        if matching_post:\n",
    "            print(f\"Post {self.username} containing {keyword} :\")\n",
    "            for index , post in enumerate(matching_post , start = 1):\n",
    "                print(f\"{index} {post}\")\n",
    "        else:\n",
    "            print(f\"Number of the post {self.username} containing  {keyword} found\")\n",
    "        print()\n",
    "        \n",
    "\n",
    "profile1 = SocialMediaProfile(username=\"user1\")\n",
    "profile2 = SocialMediaProfile(username=\"user2\")\n",
    "\n",
    "profile1.add_post(\"Enjoying a sunday day at the beach!\")\n",
    "profile1.add_post(\"Just finished reading a great book.\")\n",
    "\n",
    "profile2.add_post(\"Excited about the new project at work.\")\n",
    "profile2.add_post(\"Traveling to a new city this weekend.\")\n",
    "\n",
    "\n",
    "profile1.display_posts()\n",
    "profile2.display_posts()\n",
    "\n",
    "\n",
    "profile1.search_posts(\"book\")\n",
    "profile2.search_posts(\"travel\")"
   ]
  },
  {
   "cell_type": "markdown",
   "id": "18aef676-7daf-4101-a14e-db8f853f4a12",
   "metadata": {},
   "source": [
    "### Problem 10: ToDo List Create a class representing a ToDo list with attributes like tasks and due dates. Implement methods to add tasks, mark tasks as completed, and display pending tasks."
   ]
  },
  {
   "cell_type": "code",
   "execution_count": 53,
   "id": "d3290d2b-83b6-4229-866b-c2f3a248f3b2",
   "metadata": {},
   "outputs": [
    {
     "name": "stdout",
     "output_type": "stream",
     "text": [
      "my task: [('Take a class', 'Take lunch', 'Revision')]\n",
      "mark task: [('Take class', 'Take lunch')]\n",
      "my pending task: [('Revision',)]\n"
     ]
    }
   ],
   "source": [
    "class todo_list:\n",
    "    def __init__(self):\n",
    "        self.task=[]\n",
    "        self.mark_task=[]\n",
    "        self.pend_task=[]\n",
    "        \n",
    "    def add_task(self,*data):\n",
    "        self.task.append(data)\n",
    "        \n",
    "    def mark_task_ascomplete(self,*marktask):\n",
    "        self.mark_task.append(marktask)\n",
    "        \n",
    "    def pending_task(self,*pending):\n",
    "        self.pend_task.append(pending)\n",
    "\n",
    "        \n",
    "    def display_task(self):\n",
    "        print(\"my task:\",self.task)\n",
    "        print(\"mark task:\",self.mark_task)\n",
    "        print (\"my pending task:\",self.pend_task)\n",
    "        \n",
    "a=todo_list()\n",
    "a.add_task(\"Take a class\",\"Take lunch\",\"Revision\")\n",
    "a.mark_task_ascomplete(\"Take class\",\"Take lunch\")\n",
    "a.pending_task(\"Revision\")\n",
    "a.display_task()\n",
    "        "
   ]
  },
  {
   "cell_type": "code",
   "execution_count": null,
   "id": "61c2cb26-802c-4cbc-8031-3394ec546e1b",
   "metadata": {},
   "outputs": [],
   "source": []
  }
 ],
 "metadata": {
  "kernelspec": {
   "display_name": "Python 3 (ipykernel)",
   "language": "python",
   "name": "python3"
  },
  "language_info": {
   "codemirror_mode": {
    "name": "ipython",
    "version": 3
   },
   "file_extension": ".py",
   "mimetype": "text/x-python",
   "name": "python",
   "nbconvert_exporter": "python",
   "pygments_lexer": "ipython3",
   "version": "3.10.8"
  }
 },
 "nbformat": 4,
 "nbformat_minor": 5
}
